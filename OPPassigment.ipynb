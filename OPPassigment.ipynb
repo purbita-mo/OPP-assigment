{
  "nbformat": 4,
  "nbformat_minor": 0,
  "metadata": {
    "colab": {
      "provenance": []
    },
    "kernelspec": {
      "name": "python3",
      "display_name": "Python 3"
    },
    "language_info": {
      "name": "python"
    }
  },
  "cells": [
    {
      "cell_type": "code",
      "execution_count": null,
      "metadata": {
        "id": "Tdg5YHFqLhwy"
      },
      "outputs": [],
      "source": []
    },
    {
      "cell_type": "markdown",
      "source": [
        "1.  What is Object-Oriented Programming (OOP)\n",
        "\n",
        "A. In Python, Object-Oriented Programming (OOP) is a way of structuring code by creating classes and objects. It's a programming style where you bundle data and functions together as objects, making it easier to manage complex programs.\n",
        "\n",
        "2.  What is a class in OOP?\n",
        "\n",
        "A. The class is a user-defined data structure that combines the methods and data members into a single\n",
        "entity. For the production of objects, classes serve as blueprints or code templates. You can make as many\n",
        "objects as you desire using a class.\n",
        "\n",
        "3.  What is an object in OOP?\n",
        "\n",
        "A. An instance of a class is an object. It consists of a set of methods and attributes. Actions are carried\n",
        "out using a class's object.\n",
        "\n",
        "4. What is the difference between abstraction and encapsulation?\n",
        "\n",
        "A. Abstraction in python : In Python, abstraction is a key idea in object-oriented programming (OOP) that\n",
        "allows you to describe complicated systems by hiding unneeded details and exposing just essential aspects.\n",
        "It aids in the management of programme complexity by breaking it down into smaller, more manageable\n",
        "sections whereas Encapsulation refers to the\n",
        "broad concealment of an object's internal representation from areas outside of its specification.\n",
        "Assume, for instance, that you combine methods that provide read or write access with an attribute that is\n",
        "hidden from view on the exterior of an object. Then, you may limit who has access to the object's internal\n",
        "state and hide particular pieces of information. Without giving the program complete access to all of a\n",
        "class's variables, encapsulation provides a mechanism\n",
        "\n",
        "5. What are dunder methods in Python?\n",
        "\n",
        "A. Dunder methods, also known as magic methods or special methods, in Python are special reserved methods\n",
        "that are surrounded by double underscores (i.e., __method__). These methods allow you to define how\n",
        "instances of your classes behave when they are used with built-in Python functions or operators.\n",
        "\n",
        "6. Explain the concept of inheritance in OOP.\n",
        "\n",
        "A. Inheritance in Python refers to the process of a child class receiving the Parent class properties. The reuse of code is inheritance's main goal.\n",
        "\n",
        "7. F What is polymorphism in OOP?\n",
        "\n",
        "A. In OOP, polymorphism refers to an object's capacity to assume several forms.\n",
        "Simply said, polymorphism enables us to carry out a single activity in a variety of ways.\n",
        "\n",
        "8. How is encapsulation achieved in Python?\n",
        "\n",
        "A. Encapsulation is a Python technique for combining data and functions into a\n",
        "single object. A class, for instance, contains all the data (methods and variables). Encapsulation refers to the\n",
        "broad concealment of an object's internal representation from areas outside of its specification.\n",
        "Assume, for instance, that you combine methods that provide read or write access with an attribute that is\n",
        "hidden from view on the exterior of an object. Then, you may limit who has access to the object's internal\n",
        "state and hide particular pieces of information. Without giving the program complete access to all of a\n",
        "class's variables, encapsulation provides a mechanism for us to obtain the necessary variable. This method is\n",
        "used to shield an object's data from other objects.\n",
        "\n",
        "9. What is a constructor in Python?\n",
        "\n",
        "A. A constructor is a particular method used in object-oriented programming to\n",
        "generate and initialise an object of a class. In the class, this method is defined.\n",
        "When an object is created, the constructor is automatically run.Declaring and initialising a class's instance and\n",
        "data member variables is the main function of the constructor.\n",
        "\n",
        "10. What are class and static methods in Python?\n",
        "\n",
        "A. Class methods are methods that are bound to the class and not the instance of the class. They can access or\n",
        "modify class state that applies across all instances of the class. Class methods are defined using the\n",
        "@classmethod decorator.\n",
        "\n",
        "Static methods are methods that belong to the class and don't access or modify class or instance state. They\n",
        "are defined using the @staticmethod decorator.\n",
        "\n",
        "11. What is method overloading in Python?\n",
        "\n",
        "A. Method overloading is the practice of invoking the same method more than\n",
        "once with different parameters. Method overloading is not supported by Python. Even if you overload the\n",
        "method, Python only takes into account the most recent definition.\n",
        "\n",
        "12. What is method overriding in OOP?\n",
        "\n",
        "A. In Python, method overriding is the process of providing a different\n",
        "implementation for a method that is already defined in the superclass within a subclass. It enables the\n",
        "subclass to define its own version of a method with the same name and parameters as the method in the\n",
        "superclass. When a method is overridden, the subclass implements the method in its own way, which\n",
        "overrides the behaviour defined in the superclass. The subclass can then alter or expand the functionality of\n",
        "the inherited method.\n",
        "\n",
        "13. What is a property decorator in Python?\n",
        "\n",
        "In Python, a property decorator is used to define a method that behaves like an attribute. It allows you to manage how an attribute is accessed or modified while still keeping the interface of the class clean and intuitive. You can use a property to define getter, setter, and deleter methods in a class, which can be used to control how attributes are retrieved, changed, or deleted. The @property decorator is applied to a method to turn it into a \"getter\", while the @<property_name>.setter and @<property_name>.deleter decorators are used to set or delete the attribute.\n",
        "\n",
        "14. Why is polymorphism important in OOP?\n",
        "\n",
        "A. Polymorphism is a key feature of OOP in Python because it enables flexibility, reusability, extensibility, and maintainability. It allows you to treat objects of different classes uniformly, making your code cleaner, more modular, and easier to extend. By using polymorphism, you can avoid writing repetitive and complex conditional logic, which reduces errors and makes your code more efficient.\n",
        "\n",
        "15.  What is an abstract class in Python?\n",
        "\n",
        "A. Abstraction allows\n",
        "you to construct abstract classes and methods that give a high-level interface without providing the\n",
        "implementation specifics.\n",
        "Abstract classes cannot be instantiated and must be subclassed. They may contain abstract methods that are\n",
        "declared but not implemented in the abstract class itself. Subclasses are in charge of implementing these\n",
        "abstract methods.abstract class inside which abstract methods or any other sort of methods can be\n",
        "defined.\n",
        "As a property, abstract classes can have any number of abstract methods coexisting with any number of other\n",
        "methods.\n",
        "\n",
        "16. What are the advantages of OOP?\n",
        "\n",
        "A. Advantages of OOP in Python:\n",
        "Modular: You can break your program into small, manageable parts (objects).\n",
        "Reusable: Once a class is written, it can be reused across different parts of the program or in different projects.\n",
        "Maintainable: Code is easier to maintain and extend because you can make changes in one place (the class) without affecting other parts of the program.\n",
        "\n",
        "17.  What is the difference between a class variable and an instance variable?\n",
        "\n",
        "A. C< Instance variables: Instance variables are properties that are joined to a class instance. In the\n",
        "constructor (the class's init() method), we define instance variables.\n",
        "e< Class Variables: A variable that is declared inside a class but outside of any instance methods or init()\n",
        "methods is referred to as a class variable.\n",
        "\n",
        "18.  What is multiple inheritance in Python?\n",
        "\n",
        "A. One child class may inherit from several parent classes when there is multiple\n",
        "inheritance\n",
        "\n",
        "19. Explain the purpose of ‘’__str__’ and ‘__repr__’ ‘ methods in Python\n",
        "\n",
        "A. __str__:\n",
        "Purpose: Used to define a user-friendly string representation of an object.\n",
        "When used: Called by functions like print() and str() to convert the object to a string.\n",
        "\n",
        "__repr__:\n",
        "Purpose: Used to define a formal string representation of an object, one that could, ideally, be used to recreate the object.\n",
        "When used: Called by the repr() function and in the interactive interpreter\n",
        "\n",
        "20. What is the significance of the ‘super()’ function in Python?\n",
        "\n",
        "A. The super() function in Python is used to call methods from a parent (or superclass) in a class. It is particularly useful in inheritance when you want to call a method from the parent class inside a method in the child class.\n",
        "\n",
        "21. What is the significance of the __del__ method in Python?\n",
        "\n",
        "A. The __del__ method in Python is a special method that is used for object destruction. It is called when an object is about to be destroyed, and it provides an opportunity to perform any necessary cleanup operations, such as closing files, releasing network connections, or freeing up resources.\n",
        "\n",
        "22.  What is the difference between @staticmethod and @classmethod in Python?\n",
        "\n",
        "A. Differences between @staticmethod and @classmethod in Python are as follows:\n",
        "\n",
        "@staticmethod doesn't take self or cls and is used for utility functions that don’t need access to the class or instance.\n",
        "@classmethod takes cls as the first argument and is used for methods that need to modify or interact with the class itself, rather than individual instances.\n",
        "\n",
        "23. How does polymorphism work in Python with inheritance?\n",
        "\n",
        "A. In Python, polymorphism works with inheritance by allowing different classes to define methods with the same name, but with different behaviors. This enables objects of different classes to be treated as instances of the same class while allowing each class to have its own version of a method.\n",
        "\n",
        "How it Works:\n",
        "Inheritance: A child class inherits methods and attributes from a parent class.\n",
        "Method Overriding: The child class can override methods of the parent class to provide its own implementation.\n",
        "Polymorphism: Even though objects of different classes (derived from the same parent) might use the same method name, the actual method executed depends on the type of the object.\n",
        "\n",
        "24. What is method chaining in Python OOP?\n",
        "\n",
        "A. Method chaining in Python OOP refers to the practice of calling multiple methods on the same object in a single line of code, one after another. This is possible because each method returns the object itself (or another object that supports further method calls). To enable method chaining, a method must return the object (self) that the method is called on. This allows another method to be called on that same object in the next part of the chain.\n",
        "\n",
        "25.  What is the purpose of the __call__ method in Python?\n",
        "\n",
        "A. The __call__ method in Python allows an object to be called like a function. When you define __call__ in a class, instances of that class can be invoked directly using parentheses, just like functions.\n",
        "\n",
        "\n"
      ],
      "metadata": {
        "id": "5nsagXa4LnH3"
      }
    },
    {
      "cell_type": "code",
      "source": [
        "# 1. Create a parent class Animal with a method speak() that prints a generic message. Create a child class Dog that overrides the speak() method to print \"Bark!\"."
      ],
      "metadata": {
        "id": "bqr4QARzWyjv"
      },
      "execution_count": null,
      "outputs": []
    },
    {
      "cell_type": "code",
      "source": [
        "class Animal:\n",
        "  def speak(self):\n",
        "        print(\"Animal makes a sound\")\n",
        "\n",
        "class Dog(Animal):\n",
        "  def speak(self):\n",
        "        print(\"Bark!\")\n",
        "\n",
        "dog = Dog()\n",
        "dog.speak()"
      ],
      "metadata": {
        "colab": {
          "base_uri": "https://localhost:8080/"
        },
        "id": "YIiytTZXW5MM",
        "outputId": "695af5d9-6e8a-40e5-cb7e-04149d1512de"
      },
      "execution_count": 1,
      "outputs": [
        {
          "output_type": "stream",
          "name": "stdout",
          "text": [
            "Bark!\n"
          ]
        }
      ]
    },
    {
      "cell_type": "code",
      "source": [
        "# 2. Write a program to create an abstract class Shape with a method area(). Derive classes Circle and Rectangle\n",
        "#from it and implement the area() method in both.\n",
        "\n"
      ],
      "metadata": {
        "colab": {
          "base_uri": "https://localhost:8080/",
          "height": 106
        },
        "id": "0h86AoO6XdU2",
        "outputId": "a2557170-75f0-49d6-d58d-131e85c4eb3f"
      },
      "execution_count": 3,
      "outputs": [
        {
          "output_type": "error",
          "ename": "IndentationError",
          "evalue": "unexpected indent (<ipython-input-3-88b6b9899f71>, line 9)",
          "traceback": [
            "\u001b[0;36m  File \u001b[0;32m\"<ipython-input-3-88b6b9899f71>\"\u001b[0;36m, line \u001b[0;32m9\u001b[0m\n\u001b[0;31m    def calculate_area(self):\u001b[0m\n\u001b[0m    ^\u001b[0m\n\u001b[0;31mIndentationError\u001b[0m\u001b[0;31m:\u001b[0m unexpected indent\n"
          ]
        }
      ]
    },
    {
      "cell_type": "code",
      "source": [
        "import abc"
      ],
      "metadata": {
        "id": "Kw2Wftv9YHJG"
      },
      "execution_count": 4,
      "outputs": []
    },
    {
      "cell_type": "code",
      "source": [
        "class Shape:\n",
        "\n",
        "    @abc.abstractmethod\n",
        "    def calculate_area(self):\n",
        "        pass\n",
        "class Rectangle(Shape):\n",
        "    def calculate_area(self):\n",
        "        return \"Area of rectange is len*breadth\"\n",
        "class Circle(Shape):\n",
        "    def calculate_area(self):\n",
        "        return \"area of circle is pi r **2\""
      ],
      "metadata": {
        "id": "AsdGiGM3YI7N"
      },
      "execution_count": 6,
      "outputs": []
    },
    {
      "cell_type": "code",
      "source": [
        "rect = Rectangle()\n",
        "rect.calculate_area()"
      ],
      "metadata": {
        "colab": {
          "base_uri": "https://localhost:8080/",
          "height": 35
        },
        "id": "29-uu2DWYMzk",
        "outputId": "89e55b19-de8b-4bc1-a7dc-e653a608d0a1"
      },
      "execution_count": 7,
      "outputs": [
        {
          "output_type": "execute_result",
          "data": {
            "text/plain": [
              "'Area of rectange is len*breadth'"
            ],
            "application/vnd.google.colaboratory.intrinsic+json": {
              "type": "string"
            }
          },
          "metadata": {},
          "execution_count": 7
        }
      ]
    },
    {
      "cell_type": "code",
      "source": [
        "c = Circle()\n",
        "c.calculate_area()"
      ],
      "metadata": {
        "colab": {
          "base_uri": "https://localhost:8080/",
          "height": 35
        },
        "id": "Wt-XZpKVYUtU",
        "outputId": "a21573e7-9792-4fed-b48b-6c31ca088093"
      },
      "execution_count": 8,
      "outputs": [
        {
          "output_type": "execute_result",
          "data": {
            "text/plain": [
              "'area of circle is pi r **2'"
            ],
            "application/vnd.google.colaboratory.intrinsic+json": {
              "type": "string"
            }
          },
          "metadata": {},
          "execution_count": 8
        }
      ]
    },
    {
      "cell_type": "code",
      "source": [
        "#  Implement a multi-level inheritance scenario where a class Vehicle has an attribute type. Derive a class Car\n",
        "# and further derive a class ElectricCar that adds a battery attribute."
      ],
      "metadata": {
        "id": "-Dn15MKcYXdl"
      },
      "execution_count": null,
      "outputs": []
    },
    {
      "cell_type": "code",
      "source": [
        "class Vehicle:\n",
        "    def vehicle_info(self):\n",
        "        print(\"Inside the vehicle class\")\n",
        "\n",
        "class Car(Vehicle):\n",
        "    def car_info(self):\n",
        "        print(\"Inside the car class\")\n",
        "\n",
        "class ElectricCar(Car):\n",
        "    def ElectricCar_info(self):\n",
        "        print(\"Battery\")\n",
        ""
      ],
      "metadata": {
        "id": "xqf7sGA_Yc6U"
      },
      "execution_count": 9,
      "outputs": []
    },
    {
      "cell_type": "code",
      "source": [
        "Obj1 = ElectricCar()\n",
        "Obj1.car_info()"
      ],
      "metadata": {
        "colab": {
          "base_uri": "https://localhost:8080/"
        },
        "id": "1SmAGLTOZnjo",
        "outputId": "3abac51f-82ca-41fb-f1e2-4d01240e0c70"
      },
      "execution_count": 12,
      "outputs": [
        {
          "output_type": "stream",
          "name": "stdout",
          "text": [
            "Inside the car class\n"
          ]
        }
      ]
    },
    {
      "cell_type": "code",
      "source": [
        "Obj1 = ElectricCar()\n",
        "Obj1.ElectricCar_info()"
      ],
      "metadata": {
        "colab": {
          "base_uri": "https://localhost:8080/"
        },
        "id": "X9YYyT61Z_sw",
        "outputId": "ae9407c3-21c3-46a3-9a9d-b0f29c358e2b"
      },
      "execution_count": 14,
      "outputs": [
        {
          "output_type": "stream",
          "name": "stdout",
          "text": [
            "Battery\n"
          ]
        }
      ]
    },
    {
      "cell_type": "code",
      "source": [
        "# 5. Write a program to demonstrate encapsulation by creating a class BankAccount with private attributes\n",
        "# balance and methods to deposit, withdraw, and check balance."
      ],
      "metadata": {
        "id": "dEY-zTReaUx3"
      },
      "execution_count": null,
      "outputs": []
    },
    {
      "cell_type": "code",
      "source": [
        "class Bank:\n",
        "\n",
        "    def __init__(self, balance):\n",
        "        self.__balance = balance\n",
        "\n",
        "    def deposit(self, amount): #amount is new deposition\n",
        "        self.__balance = self.__balance + amount\n",
        "\n",
        "    def withdraw(self, amount):\n",
        "        if self.__balance >= amount:\n",
        "            self.__balance = self.__balance - amount\n",
        "            return True\n",
        "        else:\n",
        "            return False\n",
        "\n",
        "    def get_balance(self):\n",
        "        return self.__balance"
      ],
      "metadata": {
        "id": "aJ7CLtICafge"
      },
      "execution_count": 15,
      "outputs": []
    },
    {
      "cell_type": "code",
      "source": [
        "acc1 = Bank(1000)"
      ],
      "metadata": {
        "id": "CjT_NpzfauLO"
      },
      "execution_count": 16,
      "outputs": []
    },
    {
      "cell_type": "code",
      "source": [
        "acc1.get_balance()"
      ],
      "metadata": {
        "colab": {
          "base_uri": "https://localhost:8080/"
        },
        "id": "FpLle7thayu2",
        "outputId": "81f2f501-63e3-492e-e581-909d6ee031e6"
      },
      "execution_count": 17,
      "outputs": [
        {
          "output_type": "execute_result",
          "data": {
            "text/plain": [
              "1000"
            ]
          },
          "metadata": {},
          "execution_count": 17
        }
      ]
    },
    {
      "cell_type": "code",
      "source": [
        "acc1.deposit(500)"
      ],
      "metadata": {
        "id": "mHFcXle8a0Fm"
      },
      "execution_count": 18,
      "outputs": []
    },
    {
      "cell_type": "code",
      "source": [
        "acc1.get_balance()"
      ],
      "metadata": {
        "colab": {
          "base_uri": "https://localhost:8080/"
        },
        "id": "_311XZCra5db",
        "outputId": "284ec0d0-8202-4455-9584-314684bb56b0"
      },
      "execution_count": 19,
      "outputs": [
        {
          "output_type": "execute_result",
          "data": {
            "text/plain": [
              "1500"
            ]
          },
          "metadata": {},
          "execution_count": 19
        }
      ]
    },
    {
      "cell_type": "code",
      "source": [
        "acc1.withdraw(100)"
      ],
      "metadata": {
        "colab": {
          "base_uri": "https://localhost:8080/"
        },
        "id": "V0pM1jNxa7FP",
        "outputId": "dfe127bf-0d44-45b6-bbd4-9e501f50091b"
      },
      "execution_count": 20,
      "outputs": [
        {
          "output_type": "execute_result",
          "data": {
            "text/plain": [
              "True"
            ]
          },
          "metadata": {},
          "execution_count": 20
        }
      ]
    },
    {
      "cell_type": "code",
      "source": [
        "acc1.get_balance()"
      ],
      "metadata": {
        "colab": {
          "base_uri": "https://localhost:8080/"
        },
        "id": "a86BSU8Ja9vg",
        "outputId": "5261a104-c0cf-43ed-f83d-d65447af32f9"
      },
      "execution_count": 21,
      "outputs": [
        {
          "output_type": "execute_result",
          "data": {
            "text/plain": [
              "1400"
            ]
          },
          "metadata": {},
          "execution_count": 21
        }
      ]
    },
    {
      "cell_type": "code",
      "source": [
        "acc1.withdraw(1500)"
      ],
      "metadata": {
        "colab": {
          "base_uri": "https://localhost:8080/"
        },
        "id": "DyVBWCFhbAge",
        "outputId": "7244cf9b-ed57-4113-d077-c91a60324fd3"
      },
      "execution_count": 22,
      "outputs": [
        {
          "output_type": "execute_result",
          "data": {
            "text/plain": [
              "False"
            ]
          },
          "metadata": {},
          "execution_count": 22
        }
      ]
    },
    {
      "cell_type": "code",
      "source": [
        "# 6.  Demonstrate runtime polymorphism using a method play() in a base class Instrument. Derive classes Guitar and Piano that implement their own version of play().\n",
        "\n",
        "class Instrument:\n",
        "    def play(self):\n",
        "        print(\"Instrument is playing\")\n",
        "\n",
        "class Guitar(Instrument):\n",
        "    def play(self):\n",
        "        print(\"Guitar is playing\")\n",
        "\n",
        "class Piano(Instrument):\n",
        "    def play(self):\n",
        "        print(\"Piano is playing\")\n"
      ],
      "metadata": {
        "id": "vj7PN7NCbC9W"
      },
      "execution_count": 25,
      "outputs": []
    },
    {
      "cell_type": "code",
      "source": [
        "Ins = Instrument()\n",
        "Ins.play()"
      ],
      "metadata": {
        "colab": {
          "base_uri": "https://localhost:8080/"
        },
        "id": "cg1rj-5obSyu",
        "outputId": "e50239eb-5938-42ac-9167-47cbdd432882"
      },
      "execution_count": 26,
      "outputs": [
        {
          "output_type": "stream",
          "name": "stdout",
          "text": [
            "Instrument is playing\n"
          ]
        }
      ]
    },
    {
      "cell_type": "code",
      "source": [
        "Ins1 = Guitar()\n",
        "Ins1.play()"
      ],
      "metadata": {
        "colab": {
          "base_uri": "https://localhost:8080/"
        },
        "id": "LcG7YyFSbjEm",
        "outputId": "ea00a30a-afb9-435e-a5cb-5af287143bac"
      },
      "execution_count": 27,
      "outputs": [
        {
          "output_type": "stream",
          "name": "stdout",
          "text": [
            "Guitar is playing\n"
          ]
        }
      ]
    },
    {
      "cell_type": "code",
      "source": [
        "Ins2 = Piano()\n",
        "Ins2.play()"
      ],
      "metadata": {
        "colab": {
          "base_uri": "https://localhost:8080/"
        },
        "id": "Gpjjs2vfbnOu",
        "outputId": "ae5cc5e4-8e61-4124-8f78-978cbc68684a"
      },
      "execution_count": 28,
      "outputs": [
        {
          "output_type": "stream",
          "name": "stdout",
          "text": [
            "Piano is playing\n"
          ]
        }
      ]
    },
    {
      "cell_type": "code",
      "source": [
        "# Create a class MathOperations with a class method add_numbers() to add two numbers and a static method subtract_numbers() to subtract two numbers.\n",
        "\n",
        "class MathOperations:\n",
        "    @classmethod\n",
        "    def add_numbers(cls, num1, num2):\n",
        "        return num1 + num2\n",
        "\n",
        "    @staticmethod\n",
        "    def subtract_numbers(num1, num2):\n",
        "        return num1 - num2"
      ],
      "metadata": {
        "id": "yM5SSYgKbtNu"
      },
      "execution_count": 29,
      "outputs": []
    },
    {
      "cell_type": "code",
      "source": [
        "MathOperations.add_numbers(10,20)"
      ],
      "metadata": {
        "colab": {
          "base_uri": "https://localhost:8080/"
        },
        "id": "yApPyuUNb5tH",
        "outputId": "442d4191-ecd7-4f0e-802a-9d1df88725d4"
      },
      "execution_count": 30,
      "outputs": [
        {
          "output_type": "execute_result",
          "data": {
            "text/plain": [
              "30"
            ]
          },
          "metadata": {},
          "execution_count": 30
        }
      ]
    },
    {
      "cell_type": "code",
      "source": [
        "MathOperations.subtract_numbers(30,20)"
      ],
      "metadata": {
        "colab": {
          "base_uri": "https://localhost:8080/"
        },
        "id": "68lZCSrGcH3_",
        "outputId": "f87f2e0e-1971-4021-c495-1606a5c4b730"
      },
      "execution_count": 32,
      "outputs": [
        {
          "output_type": "execute_result",
          "data": {
            "text/plain": [
              "10"
            ]
          },
          "metadata": {},
          "execution_count": 32
        }
      ]
    },
    {
      "cell_type": "code",
      "source": [
        " # 8. Implement a class Person with a class method to count the total number of persons created.\n",
        "\n",
        " class Person:\n",
        "    count = 0\n",
        "    def __init__(self):\n",
        "        Person.count += 1\n",
        "    @classmethod\n",
        "    def getCount(cls):\n",
        "        return cls.count\n",
        ""
      ],
      "metadata": {
        "id": "R6kPsVc9cSzh"
      },
      "execution_count": 37,
      "outputs": []
    },
    {
      "cell_type": "code",
      "source": [
        "Per1 = Person()"
      ],
      "metadata": {
        "id": "OrYJchVWdALL"
      },
      "execution_count": 39,
      "outputs": []
    },
    {
      "cell_type": "code",
      "source": [
        "Person.getCount()\n"
      ],
      "metadata": {
        "colab": {
          "base_uri": "https://localhost:8080/"
        },
        "id": "cqMwuYZEdZS_",
        "outputId": "10cdcc3e-b6c9-4d9c-cf4c-5fb2809a7d9c"
      },
      "execution_count": 40,
      "outputs": [
        {
          "output_type": "execute_result",
          "data": {
            "text/plain": [
              "1"
            ]
          },
          "metadata": {},
          "execution_count": 40
        }
      ]
    },
    {
      "cell_type": "code",
      "source": [
        "# 11.  Create a class Person with attributes name and age. Add a method greet() that prints \"Hello, my name is {name} and I am {age} years old.\""
      ],
      "metadata": {
        "id": "DwgnxpKyeGFn"
      },
      "execution_count": null,
      "outputs": []
    },
    {
      "cell_type": "code",
      "source": [
        "class Person:\n",
        "    def __init__(self, name, age):\n",
        "        self.name = name\n",
        "        self.age = age\n",
        "\n",
        "    def greet(self):\n",
        "        print(f\"Hello, my name is {self.name} and I am {self.age} years old.\")"
      ],
      "metadata": {
        "id": "4XwfmsIseBkt"
      },
      "execution_count": 42,
      "outputs": []
    },
    {
      "cell_type": "code",
      "source": [
        "Grt = Person(\"Purbita\", 27)"
      ],
      "metadata": {
        "id": "nClfpfiLeD6C"
      },
      "execution_count": 43,
      "outputs": []
    },
    {
      "cell_type": "code",
      "source": [
        "Person.greet(Grt)"
      ],
      "metadata": {
        "colab": {
          "base_uri": "https://localhost:8080/"
        },
        "id": "uBBP6jXbe3uh",
        "outputId": "59a15c2b-3b36-41a3-bed2-85791e92a4f9"
      },
      "execution_count": 45,
      "outputs": [
        {
          "output_type": "stream",
          "name": "stdout",
          "text": [
            "Hello, my name is Purbita and I am 27 years old.\n"
          ]
        }
      ]
    },
    {
      "cell_type": "code",
      "source": [
        "# 12.  Implement a class Student with attributes name and grades. Create a method average_grade() to compute the average of the grades."
      ],
      "metadata": {
        "id": "cWA0ZOymghMg"
      },
      "execution_count": null,
      "outputs": []
    },
    {
      "cell_type": "code",
      "source": [
        "class Student:\n",
        "    def __init__(self, name, grades):\n",
        "        self.name = name\n",
        "        self.grades = grades\n",
        "\n",
        "    def average_grade(self):\n",
        "        return sum(self.grades) / len(self.grades)"
      ],
      "metadata": {
        "id": "3YkiNqqxgf2h"
      },
      "execution_count": 47,
      "outputs": []
    },
    {
      "cell_type": "code",
      "source": [
        "stud = Student(\"Purbita\", [10,20,30,40])"
      ],
      "metadata": {
        "id": "cVqANOWIgnqi"
      },
      "execution_count": 54,
      "outputs": []
    },
    {
      "cell_type": "code",
      "source": [
        "Student.average_grade(stud)"
      ],
      "metadata": {
        "colab": {
          "base_uri": "https://localhost:8080/"
        },
        "id": "Ge5hj-CUhVbc",
        "outputId": "1d8df1f2-45f5-44e0-a953-f299ecd5c836"
      },
      "execution_count": 55,
      "outputs": [
        {
          "output_type": "execute_result",
          "data": {
            "text/plain": [
              "25.0"
            ]
          },
          "metadata": {},
          "execution_count": 55
        }
      ]
    },
    {
      "cell_type": "code",
      "source": [
        "# 13. Create a class Rectangle with methods set_dimensions() to set the dimensions and area() to calculate the area.\n",
        "\n",
        "class Rectangle:\n",
        "  def set_dimensions(self, length, width):\n",
        "    self.length = length\n",
        "    self.width = width\n",
        "  def area(self):\n",
        "    return self.length * self.width\n"
      ],
      "metadata": {
        "id": "a-Wrr4HIha1j"
      },
      "execution_count": 63,
      "outputs": []
    },
    {
      "cell_type": "code",
      "source": [
        "Rect = Rectangle()\n",
        "Rect.set_dimensions(30,20)"
      ],
      "metadata": {
        "id": "HQ7vY7jxivqJ"
      },
      "execution_count": 65,
      "outputs": []
    },
    {
      "cell_type": "code",
      "source": [
        "Rectangle.area(Rect)"
      ],
      "metadata": {
        "colab": {
          "base_uri": "https://localhost:8080/"
        },
        "id": "dgNCVSPyjA15",
        "outputId": "a2a706c5-bbd4-4888-c0bc-5e5ede8ceec9"
      },
      "execution_count": 66,
      "outputs": [
        {
          "output_type": "execute_result",
          "data": {
            "text/plain": [
              "600"
            ]
          },
          "metadata": {},
          "execution_count": 66
        }
      ]
    },
    {
      "cell_type": "code",
      "source": [
        "# 15. Create a class Product with attributes name, price, and quantity. Implement a method total_price() that calculates the total price of the product."
      ],
      "metadata": {
        "id": "UyZeCu5PjVwM"
      },
      "execution_count": null,
      "outputs": []
    },
    {
      "cell_type": "code",
      "source": [
        "class Product:\n",
        "    def __init__(self, name, price, quantity):\n",
        "        self.name = name\n",
        "        self.price = price\n",
        "        self.quantity = quantity\n",
        "\n",
        "    def total_price(self):\n",
        "        return self.price * self.quantity"
      ],
      "metadata": {
        "id": "RJYzQZ6kjUhy"
      },
      "execution_count": 67,
      "outputs": []
    },
    {
      "cell_type": "code",
      "source": [
        "TPP = Product(\"Pen\", 10, 17)"
      ],
      "metadata": {
        "id": "mkSi4AxujaDh"
      },
      "execution_count": 71,
      "outputs": []
    },
    {
      "cell_type": "code",
      "source": [
        "Product.total_price(TPP)"
      ],
      "metadata": {
        "colab": {
          "base_uri": "https://localhost:8080/"
        },
        "id": "OoztU45Fj3iy",
        "outputId": "dc67f03c-5de0-44b6-89d1-05e02aa04d6d"
      },
      "execution_count": 73,
      "outputs": [
        {
          "output_type": "execute_result",
          "data": {
            "text/plain": [
              "170"
            ]
          },
          "metadata": {},
          "execution_count": 73
        }
      ]
    },
    {
      "cell_type": "code",
      "source": [
        "# 16. Create a class Animal with an abstract method sound(). Create two derived classes Cow and Sheep that implement the sound() method.\n",
        "\n",
        "class Animal:\n",
        "  @abc.abstractmethod\n",
        "  def sound(self):\n",
        "    pass\n",
        "\n",
        "class Cow(Animal):\n",
        "  def sound(self):\n",
        "    print(\"Moo!\")\n",
        "\n",
        "class Sheep(Animal):\n",
        "  def sound(self):\n",
        "    print(\"Baa!\")"
      ],
      "metadata": {
        "id": "Du6dn873kB35"
      },
      "execution_count": 81,
      "outputs": []
    },
    {
      "cell_type": "code",
      "source": [
        "Cow.sound(Cow)\n",
        "Sheep.sound(Sheep)"
      ],
      "metadata": {
        "colab": {
          "base_uri": "https://localhost:8080/"
        },
        "id": "okNdg5pamPUi",
        "outputId": "958218ed-277e-4cce-d157-85f8e56caeca"
      },
      "execution_count": 84,
      "outputs": [
        {
          "output_type": "stream",
          "name": "stdout",
          "text": [
            "Moo!\n",
            "Baa!\n"
          ]
        }
      ]
    },
    {
      "cell_type": "code",
      "source": [
        "# Create a class House with attributes address and price. Create a derived class Mansion that adds an attribute number_of_rooms.\n",
        "\n",
        "class House:\n",
        "    def __init__(self, address, price):\n",
        "        self.address = address\n",
        "        self.price = price\n",
        "\n"
      ],
      "metadata": {
        "id": "ixD06thPmvzq"
      },
      "execution_count": 94,
      "outputs": []
    },
    {
      "cell_type": "code",
      "source": [
        "House1 = House(\"Kolkata\", 1000000)"
      ],
      "metadata": {
        "id": "sTxjbnCQnT9M"
      },
      "execution_count": 95,
      "outputs": []
    },
    {
      "cell_type": "code",
      "source": [
        "House1.address"
      ],
      "metadata": {
        "colab": {
          "base_uri": "https://localhost:8080/",
          "height": 35
        },
        "id": "lqX34d23qDBd",
        "outputId": "8d153ea2-0b8b-4ab9-eaf1-3561d8f5a1f7"
      },
      "execution_count": 96,
      "outputs": [
        {
          "output_type": "execute_result",
          "data": {
            "text/plain": [
              "'Kolkata'"
            ],
            "application/vnd.google.colaboratory.intrinsic+json": {
              "type": "string"
            }
          },
          "metadata": {},
          "execution_count": 96
        }
      ]
    },
    {
      "cell_type": "code",
      "source": [
        "House1.price"
      ],
      "metadata": {
        "colab": {
          "base_uri": "https://localhost:8080/"
        },
        "id": "YtM15YPpqM3c",
        "outputId": "04a039d5-6cfa-44e9-eb35-f384543f635d"
      },
      "execution_count": 97,
      "outputs": [
        {
          "output_type": "execute_result",
          "data": {
            "text/plain": [
              "1000000"
            ]
          },
          "metadata": {},
          "execution_count": 97
        }
      ]
    },
    {
      "cell_type": "code",
      "source": [
        "class House:\n",
        "    def __init__(self, address, price):\n",
        "        self.address = address\n",
        "        self.price = price\n",
        "\n",
        "class Mansion(House):\n",
        "  def __init__ (self, address, price, number_of_rooms):\n",
        "    self.address = address\n",
        "    self.price = price\n",
        "    self.number_of_rooms = number_of_rooms"
      ],
      "metadata": {
        "id": "Xo9GdbDwqTa8"
      },
      "execution_count": 109,
      "outputs": []
    },
    {
      "cell_type": "code",
      "source": [
        "Man = Mansion(\"Kolkata\", 1000000, 10)\n",
        "Man.number_of_rooms"
      ],
      "metadata": {
        "colab": {
          "base_uri": "https://localhost:8080/"
        },
        "id": "HAk6D3g0tCtt",
        "outputId": "10993f61-0412-4a2f-c4bb-74f6867ffb2a"
      },
      "execution_count": 111,
      "outputs": [
        {
          "output_type": "execute_result",
          "data": {
            "text/plain": [
              "10"
            ]
          },
          "metadata": {},
          "execution_count": 111
        }
      ]
    },
    {
      "cell_type": "code",
      "source": [],
      "metadata": {
        "id": "BE7snTebtbDm"
      },
      "execution_count": null,
      "outputs": []
    }
  ]
}